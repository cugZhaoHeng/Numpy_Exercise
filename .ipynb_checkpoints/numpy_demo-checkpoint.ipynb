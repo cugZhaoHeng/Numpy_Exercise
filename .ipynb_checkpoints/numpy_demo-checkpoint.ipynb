{
 "cells": [
  {
   "cell_type": "code",
   "execution_count": 10,
   "metadata": {},
   "outputs": [],
   "source": [
    "import numpy as np"
   ]
  },
  {
   "cell_type": "markdown",
   "metadata": {},
   "source": [
    "## 创建数组"
   ]
  },
  {
   "cell_type": "code",
   "execution_count": null,
   "metadata": {},
   "outputs": [],
   "source": [
    "a = np.array([1,2,3,4])\n",
    "b = np.array([5,6,7,8])\n",
    "c = np.array([[1,2,3,4], [4,5,6,7], [5,6,7,8]])"
   ]
  },
  {
   "cell_type": "code",
   "execution_count": 12,
   "metadata": {},
   "outputs": [
    {
     "data": {
      "text/plain": [
       "array([[1, 2, 3],\n",
       "       [4, 4, 5],\n",
       "       [6, 7, 5],\n",
       "       [6, 7, 8]])"
      ]
     },
     "execution_count": 12,
     "metadata": {},
     "output_type": "execute_result"
    }
   ],
   "source": [
    "c.shape = 4, 3\n",
    "c"
   ]
  },
  {
   "cell_type": "code",
   "execution_count": 13,
   "metadata": {},
   "outputs": [
    {
     "data": {
      "text/plain": [
       "array([[1, 2, 3, 4, 4, 5],\n",
       "       [6, 7, 5, 6, 7, 8]])"
      ]
     },
     "execution_count": 13,
     "metadata": {},
     "output_type": "execute_result"
    }
   ],
   "source": [
    "c.shape = 2, -1\n",
    "c"
   ]
  },
  {
   "cell_type": "code",
   "execution_count": 14,
   "metadata": {},
   "outputs": [
    {
     "data": {
      "text/plain": [
       "array([[1, 2],\n",
       "       [3, 4]])"
      ]
     },
     "execution_count": 14,
     "metadata": {},
     "output_type": "execute_result"
    }
   ],
   "source": [
    "d = a.reshape(2, 2)\n",
    "d"
   ]
  },
  {
   "cell_type": "code",
   "execution_count": 16,
   "metadata": {},
   "outputs": [
    {
     "data": {
      "text/plain": [
       "array([  1, 100,   3,   4])"
      ]
     },
     "execution_count": 16,
     "metadata": {},
     "output_type": "execute_result"
    }
   ],
   "source": [
    "a[1] = 100\n",
    "a"
   ]
  },
  {
   "cell_type": "markdown",
   "metadata": {},
   "source": [
    "## 元素类型"
   ]
  },
  {
   "cell_type": "code",
   "execution_count": 17,
   "metadata": {},
   "outputs": [
    {
     "data": {
      "text/plain": [
       "dtype('int32')"
      ]
     },
     "execution_count": 17,
     "metadata": {},
     "output_type": "execute_result"
    }
   ],
   "source": [
    "c.dtype"
   ]
  },
  {
   "cell_type": "code",
   "execution_count": 33,
   "metadata": {},
   "outputs": [
    {
     "data": {
      "text/plain": [
       "dtype('float32')"
      ]
     },
     "execution_count": 33,
     "metadata": {},
     "output_type": "execute_result"
    }
   ],
   "source": [
    "ai32 = np.array([1, 2, 3, 4], dtype=np.int)\n",
    "af = np.array([1, 2, 3, 4], dtype='f')\n",
    "ac = np.array([1, 2, 3, 4], dtype=np.complex)\n",
    "ai32.dtype\n",
    "af.dtype\n",
    "# ac.dtype"
   ]
  },
  {
   "cell_type": "code",
   "execution_count": 30,
   "metadata": {},
   "outputs": [
    {
     "data": {
      "text/plain": [
       "['f', 11, 'float32', 'Float32', 'f4', 'single']"
      ]
     },
     "execution_count": 30,
     "metadata": {},
     "output_type": "execute_result"
    }
   ],
   "source": [
    "[key for key, value in np.typeDict.items() if value is np.float32]"
   ]
  },
  {
   "cell_type": "code",
   "execution_count": 37,
   "metadata": {},
   "outputs": [
    {
     "data": {
      "text/plain": [
       "{('?', numpy.bool_),\n",
       " ('B', numpy.uint8),\n",
       " ('Bool', numpy.bool_),\n",
       " ('Bytes0', numpy.bytes_),\n",
       " ('Complex32', numpy.complex64),\n",
       " ('Complex64', numpy.complex128),\n",
       " ('D', numpy.complex128),\n",
       " ('Datetime64', numpy.datetime64),\n",
       " ('F', numpy.complex64),\n",
       " ('Float16', numpy.float16),\n",
       " ('Float32', numpy.float32),\n",
       " ('Float64', numpy.float64),\n",
       " ('G', numpy.complex128),\n",
       " ('H', numpy.uint16),\n",
       " ('I', numpy.uint32),\n",
       " ('Int16', numpy.int16),\n",
       " ('Int32', numpy.int32),\n",
       " ('Int64', numpy.int64),\n",
       " ('Int8', numpy.int8),\n",
       " ('L', numpy.uint32),\n",
       " ('M', numpy.datetime64),\n",
       " ('M8', numpy.datetime64),\n",
       " ('O', numpy.object_),\n",
       " ('Object0', numpy.object_),\n",
       " ('P', numpy.uint64),\n",
       " ('Q', numpy.uint64),\n",
       " ('S', numpy.bytes_),\n",
       " ('Str0', numpy.str_),\n",
       " ('Timedelta64', numpy.timedelta64),\n",
       " ('U', numpy.str_),\n",
       " ('UInt16', numpy.uint16),\n",
       " ('UInt32', numpy.uint32),\n",
       " ('UInt64', numpy.uint64),\n",
       " ('UInt8', numpy.uint8),\n",
       " ('V', numpy.void),\n",
       " ('Void0', numpy.void),\n",
       " ('a', numpy.bytes_),\n",
       " ('b', numpy.int8),\n",
       " ('b1', numpy.bool_),\n",
       " ('bool', numpy.bool_),\n",
       " ('bool8', numpy.bool_),\n",
       " ('bool_', numpy.bool_),\n",
       " ('byte', numpy.int8),\n",
       " ('bytes', numpy.bytes_),\n",
       " ('bytes0', numpy.bytes_),\n",
       " ('bytes_', numpy.bytes_),\n",
       " ('c16', numpy.complex128),\n",
       " ('c8', numpy.complex64),\n",
       " ('cdouble', numpy.complex128),\n",
       " ('cfloat', numpy.complex128),\n",
       " ('clongdouble', numpy.complex128),\n",
       " ('clongfloat', numpy.complex128),\n",
       " ('complex', numpy.complex128),\n",
       " ('complex128', numpy.complex128),\n",
       " ('complex64', numpy.complex64),\n",
       " ('complex_', numpy.complex128),\n",
       " ('csingle', numpy.complex64),\n",
       " ('d', numpy.float64),\n",
       " ('datetime64', numpy.datetime64),\n",
       " ('double', numpy.float64),\n",
       " ('e', numpy.float16),\n",
       " ('f', numpy.float32),\n",
       " ('f2', numpy.float16),\n",
       " ('f4', numpy.float32),\n",
       " ('f8', numpy.float64),\n",
       " ('float', numpy.float64),\n",
       " ('float16', numpy.float16),\n",
       " ('float32', numpy.float32),\n",
       " ('float64', numpy.float64),\n",
       " ('float_', numpy.float64),\n",
       " ('g', numpy.float64),\n",
       " ('h', numpy.int16),\n",
       " ('half', numpy.float16),\n",
       " ('i', numpy.int32),\n",
       " ('i1', numpy.int8),\n",
       " ('i2', numpy.int16),\n",
       " ('i4', numpy.int32),\n",
       " ('i8', numpy.int64),\n",
       " ('int', numpy.int32),\n",
       " ('int0', numpy.int64),\n",
       " ('int16', numpy.int16),\n",
       " ('int32', numpy.int32),\n",
       " ('int64', numpy.int64),\n",
       " ('int8', numpy.int8),\n",
       " ('int_', numpy.int32),\n",
       " ('intc', numpy.int32),\n",
       " ('intp', numpy.int64),\n",
       " ('l', numpy.int32),\n",
       " ('long', numpy.int32),\n",
       " ('longcomplex', numpy.complex128),\n",
       " ('longdouble', numpy.float64),\n",
       " ('longfloat', numpy.float64),\n",
       " ('longlong', numpy.int64),\n",
       " ('m', numpy.timedelta64),\n",
       " ('m8', numpy.timedelta64),\n",
       " ('object', numpy.object_),\n",
       " ('object0', numpy.object_),\n",
       " ('object_', numpy.object_),\n",
       " ('p', numpy.int64),\n",
       " ('q', numpy.int64),\n",
       " ('short', numpy.int16),\n",
       " ('single', numpy.float32),\n",
       " ('singlecomplex', numpy.complex64),\n",
       " ('str', numpy.str_),\n",
       " ('str0', numpy.str_),\n",
       " ('str_', numpy.str_),\n",
       " ('string_', numpy.bytes_),\n",
       " ('timedelta64', numpy.timedelta64),\n",
       " ('u1', numpy.uint8),\n",
       " ('u2', numpy.uint16),\n",
       " ('u4', numpy.uint32),\n",
       " ('u8', numpy.uint64),\n",
       " ('ubyte', numpy.uint8),\n",
       " ('uint', numpy.uint32),\n",
       " ('uint0', numpy.uint64),\n",
       " ('uint16', numpy.uint16),\n",
       " ('uint32', numpy.uint32),\n",
       " ('uint64', numpy.uint64),\n",
       " ('uint8', numpy.uint8),\n",
       " ('uintc', numpy.uint32),\n",
       " ('uintp', numpy.uint64),\n",
       " ('ulonglong', numpy.uint64),\n",
       " ('unicode', numpy.str_),\n",
       " ('unicode_', numpy.str_),\n",
       " ('ushort', numpy.uint16),\n",
       " ('void', numpy.void),\n",
       " ('void0', numpy.void),\n",
       " (0, numpy.bool_),\n",
       " (1, numpy.int8),\n",
       " (10, numpy.uint64),\n",
       " (11, numpy.float32),\n",
       " (12, numpy.float64),\n",
       " (13, numpy.float64),\n",
       " (14, numpy.complex64),\n",
       " (15, numpy.complex128),\n",
       " (16, numpy.complex128),\n",
       " (17, numpy.object_),\n",
       " (18, numpy.bytes_),\n",
       " (19, numpy.str_),\n",
       " (2, numpy.uint8),\n",
       " (20, numpy.void),\n",
       " (21, numpy.datetime64),\n",
       " (22, numpy.timedelta64),\n",
       " (23, numpy.float16),\n",
       " (3, numpy.int16),\n",
       " (4, numpy.uint16),\n",
       " (5, numpy.int32),\n",
       " (6, numpy.uint32),\n",
       " (7, numpy.int32),\n",
       " (8, numpy.uint32),\n",
       " (9, numpy.int64)}"
      ]
     },
     "execution_count": 37,
     "metadata": {},
     "output_type": "execute_result"
    }
   ],
   "source": [
    "set(np.typeDict.items())\n",
    "#set(np.typeDict.keys())"
   ]
  },
  {
   "cell_type": "code",
   "execution_count": 41,
   "metadata": {},
   "outputs": [
    {
     "data": {
      "text/plain": [
       "65536"
      ]
     },
     "execution_count": 41,
     "metadata": {},
     "output_type": "execute_result"
    }
   ],
   "source": [
    "a = np.int16(256)\n",
    "a**2"
   ]
  },
  {
   "cell_type": "code",
   "execution_count": 43,
   "metadata": {},
   "outputs": [
    {
     "name": "stdout",
     "output_type": "stream",
     "text": [
      "97.7 ns ± 0.134 ns per loop (mean ± std. dev. of 7 runs, 10000000 loops each)\n",
      "147 ns ± 1.38 ns per loop (mean ± std. dev. of 7 runs, 10000000 loops each)\n"
     ]
    }
   ],
   "source": [
    "v1 = 3.14\n",
    "v2 = np.float32(3.14)\n",
    "%timeit v1*v1\n",
    "%timeit v2*v2"
   ]
  },
  {
   "cell_type": "code",
   "execution_count": 48,
   "metadata": {},
   "outputs": [
    {
     "data": {
      "text/plain": [
       "array([1., 2., 3., 4.])"
      ]
     },
     "execution_count": 48,
     "metadata": {},
     "output_type": "execute_result"
    }
   ],
   "source": [
    "t1 = np.array([1, 2, 3, 4], dtype=float)\n",
    "t2 = t1.astype(np.int32)\n",
    "t1"
   ]
  },
  {
   "cell_type": "markdown",
   "metadata": {},
   "source": [
    "## 自动生成数组"
   ]
  },
  {
   "cell_type": "code",
   "execution_count": 50,
   "metadata": {},
   "outputs": [
    {
     "data": {
      "text/plain": [
       "array([0. , 0.1, 0.2, 0.3, 0.4, 0.5, 0.6, 0.7, 0.8, 0.9])"
      ]
     },
     "execution_count": 50,
     "metadata": {},
     "output_type": "execute_result"
    }
   ],
   "source": [
    "np.arange(0, 1, 0.1)"
   ]
  },
  {
   "cell_type": "code",
   "execution_count": 51,
   "metadata": {},
   "outputs": [
    {
     "data": {
      "text/plain": [
       "array([0.        , 0.11111111, 0.22222222, 0.33333333, 0.44444444,\n",
       "       0.55555556, 0.66666667, 0.77777778, 0.88888889, 1.        ])"
      ]
     },
     "execution_count": 51,
     "metadata": {},
     "output_type": "execute_result"
    }
   ],
   "source": [
    "np.linspace(0, 1, 10)"
   ]
  },
  {
   "cell_type": "code",
   "execution_count": 52,
   "metadata": {},
   "outputs": [
    {
     "data": {
      "text/plain": [
       "array([0. , 0.1, 0.2, 0.3, 0.4, 0.5, 0.6, 0.7, 0.8, 0.9])"
      ]
     },
     "execution_count": 52,
     "metadata": {},
     "output_type": "execute_result"
    }
   ],
   "source": [
    "np.linspace(0, 1, 10, endpoint=False)"
   ]
  },
  {
   "cell_type": "code",
   "execution_count": 56,
   "metadata": {},
   "outputs": [
    {
     "data": {
      "text/plain": [
       "array([1.e+00, 1.e+02, 1.e+04])"
      ]
     },
     "execution_count": 56,
     "metadata": {},
     "output_type": "execute_result"
    }
   ],
   "source": [
    "np.logspace(0, 4, 3)"
   ]
  },
  {
   "cell_type": "code",
   "execution_count": 60,
   "metadata": {},
   "outputs": [
    {
     "data": {
      "text/plain": [
       "array([1., 2., 4., 8.])"
      ]
     },
     "execution_count": 60,
     "metadata": {},
     "output_type": "execute_result"
    }
   ],
   "source": [
    "np.logspace(0, 4, 4, endpoint=False, base=2)"
   ]
  },
  {
   "cell_type": "code",
   "execution_count": 64,
   "metadata": {},
   "outputs": [
    {
     "data": {
      "text/plain": [
       "array([[         0, 1072693248, 1367772257],\n",
       "       [1077250906, -918058736, 1081934474]])"
      ]
     },
     "execution_count": 64,
     "metadata": {},
     "output_type": "execute_result"
    }
   ],
   "source": [
    "np.empty((2, 3), dtype=np.int32)"
   ]
  },
  {
   "cell_type": "code",
   "execution_count": 65,
   "metadata": {},
   "outputs": [
    {
     "data": {
      "text/plain": [
       "array([0, 0, 0, 0])"
      ]
     },
     "execution_count": 65,
     "metadata": {},
     "output_type": "execute_result"
    }
   ],
   "source": [
    "np.zeros(4, np.int)"
   ]
  },
  {
   "cell_type": "code",
   "execution_count": 68,
   "metadata": {},
   "outputs": [
    {
     "data": {
      "text/plain": [
       "array([3.14159265, 3.14159265, 3.14159265, 3.14159265])"
      ]
     },
     "execution_count": 68,
     "metadata": {},
     "output_type": "execute_result"
    }
   ],
   "source": [
    "np.full(4, np.pi)"
   ]
  },
  {
   "cell_type": "code",
   "execution_count": 70,
   "metadata": {},
   "outputs": [
    {
     "data": {
      "text/plain": [
       "array([[1, 1, 1, 1],\n",
       "       [1, 1, 1, 1],\n",
       "       [1, 1, 1, 1]])"
      ]
     },
     "execution_count": 70,
     "metadata": {},
     "output_type": "execute_result"
    }
   ],
   "source": [
    "np.ones((3, 4), np.int32)"
   ]
  },
  {
   "cell_type": "code",
   "execution_count": 78,
   "metadata": {},
   "outputs": [
    {
     "data": {
      "text/plain": [
       "array([0., 2., 4., 6., 8.])"
      ]
     },
     "execution_count": 78,
     "metadata": {},
     "output_type": "execute_result"
    }
   ],
   "source": [
    "def func(i):\n",
    "    return i*2\n",
    "np.fromfunction(func, (5,))"
   ]
  },
  {
   "cell_type": "code",
   "execution_count": 82,
   "metadata": {},
   "outputs": [
    {
     "data": {
      "text/plain": [
       "array([[0., 1., 2., 3., 4., 5., 6.],\n",
       "       [1., 2., 3., 4., 5., 6., 7.],\n",
       "       [2., 3., 4., 5., 6., 7., 8.]])"
      ]
     },
     "execution_count": 82,
     "metadata": {},
     "output_type": "execute_result"
    }
   ],
   "source": [
    "def func2(i, j):\n",
    "    return i+j\n",
    "np.fromfunction(func2, (3,7))"
   ]
  },
  {
   "cell_type": "markdown",
   "metadata": {},
   "source": [
    "## 存取元素"
   ]
  },
  {
   "cell_type": "code",
   "execution_count": 97,
   "metadata": {},
   "outputs": [
    {
     "data": {
      "text/plain": [
       "array([1, 3, 5, 7])"
      ]
     },
     "execution_count": 97,
     "metadata": {},
     "output_type": "execute_result"
    }
   ],
   "source": [
    "a = np.arange(10)\n",
    "a\n",
    "a[6]\n",
    "a[3:7]\n",
    "a[-1]\n",
    "a[::2]\n",
    "a[1:-1:2]"
   ]
  },
  {
   "cell_type": "code",
   "execution_count": 99,
   "metadata": {},
   "outputs": [
    {
     "data": {
      "text/plain": [
       "array([9, 7, 5, 3, 1])"
      ]
     },
     "execution_count": 99,
     "metadata": {},
     "output_type": "execute_result"
    }
   ],
   "source": [
    "a[::-2]"
   ]
  },
  {
   "cell_type": "code",
   "execution_count": 101,
   "metadata": {},
   "outputs": [
    {
     "data": {
      "text/plain": [
       "array([  0,   1, 100,  22,   4,   5,   6,   7,   8,   9])"
      ]
     },
     "execution_count": 101,
     "metadata": {},
     "output_type": "execute_result"
    }
   ],
   "source": [
    "a[2:4] = 100, 22\n",
    "a"
   ]
  },
  {
   "cell_type": "code",
   "execution_count": 102,
   "metadata": {},
   "outputs": [
    {
     "data": {
      "text/plain": [
       "array([22,  4,  5])"
      ]
     },
     "execution_count": 102,
     "metadata": {},
     "output_type": "execute_result"
    }
   ],
   "source": [
    "b = a[3:6]\n",
    "b"
   ]
  },
  {
   "cell_type": "code",
   "execution_count": 104,
   "metadata": {},
   "outputs": [
    {
     "data": {
      "text/plain": [
       "array([  0,   1, 100,  22,   4,  -4,   6,   7,   8,   9])"
      ]
     },
     "execution_count": 104,
     "metadata": {},
     "output_type": "execute_result"
    }
   ],
   "source": [
    "b[2] = -4\n",
    "b\n",
    "a"
   ]
  },
  {
   "cell_type": "code",
   "execution_count": 108,
   "metadata": {},
   "outputs": [
    {
     "data": {
      "text/plain": [
       "array([10,  9,  8,  7,  6,  5,  4,  3,  2])"
      ]
     },
     "execution_count": 108,
     "metadata": {},
     "output_type": "execute_result"
    }
   ],
   "source": [
    "x = np.arange(10, 1, -1)\n",
    "x"
   ]
  },
  {
   "cell_type": "code",
   "execution_count": 109,
   "metadata": {},
   "outputs": [
    {
     "data": {
      "text/plain": [
       "array([8, 6, 6, 3])"
      ]
     },
     "execution_count": 109,
     "metadata": {},
     "output_type": "execute_result"
    }
   ],
   "source": [
    "a = x[[2, 4, -5, 7]]\n",
    "a"
   ]
  },
  {
   "cell_type": "code",
   "execution_count": 110,
   "metadata": {},
   "outputs": [
    {
     "data": {
      "text/plain": [
       "array([ 8,  6, 99,  3])"
      ]
     },
     "execution_count": 110,
     "metadata": {},
     "output_type": "execute_result"
    }
   ],
   "source": [
    "a[2] = 99\n",
    "a"
   ]
  },
  {
   "cell_type": "code",
   "execution_count": 116,
   "metadata": {},
   "outputs": [
    {
     "data": {
      "text/plain": [
       "array([10, 88, 99, 11,  6,  5,  4,  3,  2])"
      ]
     },
     "execution_count": 116,
     "metadata": {},
     "output_type": "execute_result"
    }
   ],
   "source": [
    "x[[1,2,3]] = 88, 99, 11\n",
    "x"
   ]
  },
  {
   "cell_type": "code",
   "execution_count": 119,
   "metadata": {},
   "outputs": [
    {
     "data": {
      "text/plain": [
       "array([[99, 99, 11, 88],\n",
       "       [ 4,  6,  4, 99]])"
      ]
     },
     "execution_count": 119,
     "metadata": {},
     "output_type": "execute_result"
    }
   ],
   "source": [
    "y = x[np.array([[2, 2, 3, 1], [6, 4 ,-3, 2]])]\n",
    "y"
   ]
  },
  {
   "cell_type": "code",
   "execution_count": 121,
   "metadata": {},
   "outputs": [
    {
     "data": {
      "text/plain": [
       "array([[99, 99, 11, 88],\n",
       "       [ 4,  6,  4, 99]])"
      ]
     },
     "execution_count": 121,
     "metadata": {},
     "output_type": "execute_result"
    }
   ],
   "source": [
    "x[np.array([2, 2, 3, 1, 6, 4, -3, 2])].reshape(2, -1)"
   ]
  },
  {
   "cell_type": "code",
   "execution_count": 127,
   "metadata": {},
   "outputs": [
    {
     "data": {
      "text/plain": [
       "array([6, 4, 1])"
      ]
     },
     "execution_count": 127,
     "metadata": {},
     "output_type": "execute_result"
    }
   ],
   "source": [
    "x = np.arange(6, 0, -1)\n",
    "x[np.array([True, False, True, False, False, True])]"
   ]
  },
  {
   "cell_type": "code",
   "execution_count": 146,
   "metadata": {},
   "outputs": [
    {
     "data": {
      "text/plain": [
       "array([8, 8, 8, 6])"
      ]
     },
     "execution_count": 146,
     "metadata": {},
     "output_type": "execute_result"
    }
   ],
   "source": [
    "x = np.random.randint(0, 10, 6)\n",
    "x[x>5]"
   ]
  },
  {
   "cell_type": "code",
   "execution_count": null,
   "metadata": {},
   "outputs": [],
   "source": []
  },
  {
   "cell_type": "code",
   "execution_count": null,
   "metadata": {},
   "outputs": [],
   "source": []
  }
 ],
 "metadata": {
  "kernelspec": {
   "display_name": "Python 3",
   "language": "python",
   "name": "python3"
  },
  "language_info": {
   "codemirror_mode": {
    "name": "ipython",
    "version": 3
   },
   "file_extension": ".py",
   "mimetype": "text/x-python",
   "name": "python",
   "nbconvert_exporter": "python",
   "pygments_lexer": "ipython3",
   "version": "3.7.1"
  }
 },
 "nbformat": 4,
 "nbformat_minor": 2
}
